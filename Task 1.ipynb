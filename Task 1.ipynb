{
  "cells": [
    {
      "cell_type": "markdown",
      "metadata": {
        "id": "view-in-github",
        "colab_type": "text"
      },
      "source": [
        "<a href=\"https://colab.research.google.com/github/Ananya011/Ananya011/blob/main/Task%201.ipynb\" target=\"_parent\"><img src=\"https://colab.research.google.com/assets/colab-badge.svg\" alt=\"Open In Colab\"/></a>"
      ]
    },
    {
      "cell_type": "markdown",
      "source": [
        "Task 1 - Tic Tac Toe"
      ],
      "metadata": {
        "id": "PQhvhdtT7osb"
      }
    },
    {
      "cell_type": "code",
      "source": [
        "def print_board(board):\n",
        "    for row in board:\n",
        "        print(\" | \".join(row))\n",
        "        print(\"-\" * 9)\n",
        "\n",
        "def check_winner(board):\n",
        "    # Check rows\n",
        "    for row in board:\n",
        "        if row.count(row[0]) == len(row) and row[0] != ' ':\n",
        "            return True\n",
        "\n",
        "    # Check columns\n",
        "    for col in range(len(board)):\n",
        "        if board[0][col] == board[1][col] == board[2][col] and board[0][col] != ' ':\n",
        "            return True\n",
        "\n",
        "    # Check diagonals\n",
        "    if board[0][0] == board[1][1] == board[2][2] and board[0][0] != ' ':\n",
        "        return True\n",
        "    if board[0][2] == board[1][1] == board[2][0] and board[0][2] != ' ':\n",
        "        return True\n",
        "\n",
        "    return False\n",
        "\n",
        "def tic_tac_toe():\n",
        "    board = [['1', '2', '3'], ['4', '5', '6'], ['7', '8', '9']]\n",
        "    player1_name = input(\"Enter name for player 1 (X): \")\n",
        "    player2_name = input(\"Enter name for player 2 (O): \")\n",
        "    players = [player1_name, player2_name]\n",
        "    symbols = ['X', 'O']\n",
        "\n",
        "    for i in range(9):\n",
        "        print_board(board)\n",
        "        player = players[i % 2]\n",
        "        symbol = symbols[i % 2]\n",
        "        position = input(f\"{player}, enter position (1-9): \")\n",
        "\n",
        "        while not position.isdigit() or int(position) < 1 or int(position) > 9 or board[(int(position) - 1) // 3][(int(position) - 1) % 3] != position:\n",
        "            print(\"Invalid input. Position must be a number between 1 and 9, and it must be empty.\")\n",
        "            position = input(f\"{player}, enter position (1-9): \")\n",
        "\n",
        "        row = (int(position) - 1) // 3\n",
        "        col = (int(position) - 1) % 3\n",
        "\n",
        "        board[row][col] = symbol\n",
        "\n",
        "        if check_winner(board):\n",
        "            print_board(board)\n",
        "            print(f\"{player} wins!\")\n",
        "            break\n",
        "    else:\n",
        "        print_board(board)\n",
        "        print(\"It's a tie!\")\n",
        "\n",
        "tic_tac_toe()\n",
        "\n"
      ],
      "metadata": {
        "id": "wNaltbwu7IwE"
      },
      "execution_count": null,
      "outputs": []
    }
  ],
  "metadata": {
    "colab": {
      "name": "Welcome To Colab",
      "toc_visible": true,
      "provenance": [],
      "include_colab_link": true
    },
    "kernelspec": {
      "display_name": "Python 3",
      "name": "python3"
    }
  },
  "nbformat": 4,
  "nbformat_minor": 0
}